{
 "cells": [
  {
   "cell_type": "markdown",
   "metadata": {},
   "source": [
    "# Data Preprocessing and Splitting "
   ]
  },
  {
   "cell_type": "code",
   "execution_count": 1,
   "metadata": {},
   "outputs": [],
   "source": [
    "from PIL import Image\n",
    "import io\n",
    "import numpy as np\n",
    "import h5py\n",
    "from tqdm import trange\n",
    "import os\n",
    "import re"
   ]
  },
  {
   "cell_type": "code",
   "execution_count": 2,
   "metadata": {},
   "outputs": [
    {
     "name": "stdout",
     "output_type": "stream",
     "text": [
      "True\n"
     ]
    }
   ],
   "source": [
    "\n",
    "# check if raw data is in correct path \n",
    "print(os.path.exists('/Users/devanshurana/Desktop/Projects/text2image-gan/birds_dataset/birds.hdf5'))\n"
   ]
  },
  {
   "cell_type": "code",
   "execution_count": 3,
   "metadata": {},
   "outputs": [],
   "source": [
    "dataset = h5py.File('/Users/devanshurana/Desktop/Projects/text2image-gan/birds_dataset/birds.hdf5', mode='r')"
   ]
  },
  {
   "cell_type": "markdown",
   "metadata": {},
   "source": [
    "### Creating the dataset folder inside the model folder"
   ]
  },
  {
   "cell_type": "code",
   "execution_count": 4,
   "metadata": {},
   "outputs": [],
   "source": [
    "for folder in ['train', 'valid', 'test']:\n",
    "    os.makedirs(f'data/images/{folder}', exist_ok=True)\n",
    "    os.makedirs(f'data/txt/{folder}', exist_ok=True)"
   ]
  },
  {
   "cell_type": "code",
   "execution_count": 5,
   "metadata": {},
   "outputs": [
    {
     "data": {
      "text/plain": [
       "13035"
      ]
     },
     "execution_count": 5,
     "metadata": {},
     "output_type": "execute_result"
    }
   ],
   "source": [
    "dataset_type = 'valid'\n",
    "dataset_keys = [str(k) for k in dataset[dataset_type].keys()]\n",
    "len(dataset_keys)"
   ]
  },
  {
   "cell_type": "code",
   "execution_count": 6,
   "metadata": {},
   "outputs": [
    {
     "name": "stderr",
     "output_type": "stream",
     "text": [
      " 13%|█▎        | 1752/13035 [00:06<00:39, 282.16it/s]"
     ]
    },
    {
     "name": "stdout",
     "output_type": "stream",
     "text": [
      "Cape_Glossy_Starling_0077_129378_3\n",
      "'ascii' codec can't decode byte 0xef in position 4: ordinal not in range(128)\n"
     ]
    },
    {
     "name": "stderr",
     "output_type": "stream",
     "text": [
      " 34%|███▎      | 4386/13035 [00:16<00:26, 331.30it/s]"
     ]
    },
    {
     "name": "stdout",
     "output_type": "stream",
     "text": [
      "Fish_Crow_0040_25158_0\n",
      "'ascii' codec can't decode byte 0xef in position 4: ordinal not in range(128)\n"
     ]
    },
    {
     "name": "stderr",
     "output_type": "stream",
     "text": [
      " 66%|██████▌   | 8580/13035 [00:32<00:16, 271.29it/s]"
     ]
    },
    {
     "name": "stdout",
     "output_type": "stream",
     "text": [
      "Prothonotary_Warbler_0083_173929_0\n",
      "'ascii' codec can't decode byte 0xef in position 4: ordinal not in range(128)\n"
     ]
    },
    {
     "name": "stderr",
     "output_type": "stream",
     "text": [
      " 71%|███████   | 9277/13035 [00:34<00:11, 335.85it/s]"
     ]
    },
    {
     "name": "stdout",
     "output_type": "stream",
     "text": [
      "Ringed_Kingfisher_0098_73110_0\n",
      "'ascii' codec can't decode byte 0xef in position 4: ordinal not in range(128)\n"
     ]
    },
    {
     "name": "stderr",
     "output_type": "stream",
     "text": [
      "100%|██████████| 13035/13035 [00:46<00:00, 278.49it/s]\n"
     ]
    }
   ],
   "source": [
    "for i in trange(len(dataset_keys)):\n",
    "    if i < 9776: ## 75%\n",
    "        folder = 'train'\n",
    "    elif i < 11732: ## 15%\n",
    "        folder = 'valid'\n",
    "    else: ## 10%\n",
    "        folder = 'test'\n",
    "    \n",
    "    k = dataset_keys[i]\n",
    "    example = dataset[dataset_type][k]\n",
    "    \n",
    "    # Process and save image\n",
    "    Image.open(io.BytesIO(bytes(np.array(example['img'])))).resize((128, 128)).save(f'data/images/{folder}/{k}.jpg')\n",
    "    \n",
    "    # Process and save text\n",
    "    with open(f'data/txt/{folder}/{k}.txt', 'w') as f:\n",
    "        try:\n",
    "            f.write(str(np.array(example['txt']).astype(str)).replace('��', ' '))\n",
    "        except Exception as e:\n",
    "            print(f'{k}')  # Print key if there's an exception\n",
    "            print(e)\n"
   ]
  },
  {
   "cell_type": "code",
   "execution_count": null,
   "metadata": {},
   "outputs": [],
   "source": []
  }
 ],
 "metadata": {
  "kernelspec": {
   "display_name": "Python 3",
   "language": "python",
   "name": "python3"
  },
  "language_info": {
   "codemirror_mode": {
    "name": "ipython",
    "version": 3
   },
   "file_extension": ".py",
   "mimetype": "text/x-python",
   "name": "python",
   "nbconvert_exporter": "python",
   "pygments_lexer": "ipython3",
   "version": "3.12.2"
  }
 },
 "nbformat": 4,
 "nbformat_minor": 2
}
