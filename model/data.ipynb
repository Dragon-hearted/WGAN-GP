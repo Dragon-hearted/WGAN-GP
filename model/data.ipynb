{
 "cells": [
  {
   "cell_type": "markdown",
   "metadata": {},
   "source": [
    "# Data Preprocessing and Splitting "
   ]
  },
  {
   "cell_type": "code",
   "execution_count": 72,
   "metadata": {},
   "outputs": [],
   "source": [
    "from PIL import Image\n",
    "import io\n",
    "import numpy as np\n",
    "import h5py\n",
    "from tqdm import trange\n",
    "import os\n",
    "import re"
   ]
  },
  {
   "cell_type": "code",
   "execution_count": 73,
   "metadata": {},
   "outputs": [
    {
     "name": "stdout",
     "output_type": "stream",
     "text": [
      "True\n"
     ]
    }
   ],
   "source": [
    "\n",
    "# check if raw data is in correct path \n",
    "print(os.path.exists('/Users/devanshurana/Desktop/Projects/text2image-gan/birds_dataset/birds.hdf5'))\n"
   ]
  },
  {
   "cell_type": "code",
   "execution_count": 74,
   "metadata": {},
   "outputs": [],
   "source": [
    "dataset = h5py.File('/Users/devanshurana/Desktop/Projects/text2image-gan/birds_dataset/birds.hdf5', mode='r')"
   ]
  },
  {
   "cell_type": "markdown",
   "metadata": {},
   "source": [
    "### Creating the dataset folder inside the model folder"
   ]
  },
  {
   "cell_type": "code",
   "execution_count": 75,
   "metadata": {},
   "outputs": [],
   "source": [
    "for folder in ['train', 'valid', 'test']:\n",
    "    os.makedirs(f'data/images/{folder}', exist_ok=True)\n",
    "    os.makedirs(f'data/txt/{folder}', exist_ok=True)"
   ]
  },
  {
   "cell_type": "code",
   "execution_count": 76,
   "metadata": {},
   "outputs": [
    {
     "data": {
      "text/plain": [
       "13035"
      ]
     },
     "execution_count": 76,
     "metadata": {},
     "output_type": "execute_result"
    }
   ],
   "source": [
    "dataset_type = 'valid'\n",
    "dataset_keys = [str(k) for k in dataset[dataset_type].keys()]\n",
    "len(dataset_keys)"
   ]
  },
  {
   "cell_type": "code",
   "execution_count": 77,
   "metadata": {},
   "outputs": [
    {
     "name": "stderr",
     "output_type": "stream",
     "text": [
      " 14%|█▎        | 1775/13035 [00:05<00:35, 320.68it/s]"
     ]
    },
    {
     "name": "stdout",
     "output_type": "stream",
     "text": [
      "Cape_Glossy_Starling_0079_129399_0\n",
      "'ascii' codec can't decode byte 0xef in position 4: ordinal not in range(128)\n"
     ]
    },
    {
     "name": "stderr",
     "output_type": "stream",
     "text": [
      " 45%|████▍     | 5843/13035 [00:17<00:20, 348.58it/s]"
     ]
    },
    {
     "name": "stdout",
     "output_type": "stream",
     "text": [
      "Green_Tailed_Towhee_0037_797405_0\n",
      "'ascii' codec can't decode byte 0xef in position 4: ordinal not in range(128)\n"
     ]
    },
    {
     "name": "stderr",
     "output_type": "stream",
     "text": [
      " 66%|██████▌   | 8601/13035 [00:25<00:12, 354.80it/s]"
     ]
    },
    {
     "name": "stdout",
     "output_type": "stream",
     "text": [
      "Prothonotary_Warbler_0083_173929_3\n",
      "'ascii' codec can't decode byte 0xef in position 4: ordinal not in range(128)\n"
     ]
    },
    {
     "name": "stderr",
     "output_type": "stream",
     "text": [
      " 71%|███████   | 9273/13035 [00:27<00:09, 377.48it/s]"
     ]
    },
    {
     "name": "stdout",
     "output_type": "stream",
     "text": [
      "Ringed_Kingfisher_0098_73110_4\n",
      "'ascii' codec can't decode byte 0xef in position 4: ordinal not in range(128)\n"
     ]
    },
    {
     "name": "stderr",
     "output_type": "stream",
     "text": [
      "100%|██████████| 13035/13035 [00:37<00:00, 347.73it/s]\n"
     ]
    }
   ],
   "source": [
    "for i in trange(len(dataset_keys)):\n",
    "    if i < 9776: ## 75%\n",
    "        folder = 'train'\n",
    "    elif i < 11732: ## 15%\n",
    "        folder = 'valid'\n",
    "    else: ## 10%\n",
    "        folder = 'test'\n",
    "    \n",
    "    k = dataset_keys[i]\n",
    "    example = dataset[dataset_type][k]\n",
    "    \n",
    "    # Process and save image\n",
    "    Image.open(io.BytesIO(bytes(np.array(example['img'])))).resize((64, 64)).save(f'data/images/{folder}/{k}.jpg')\n",
    "    \n",
    "    # Process and save text\n",
    "    with open(f'data/txt/{folder}/{k}.txt', 'w') as f:\n",
    "        try:\n",
    "            f.write(str(np.array(example['txt']).astype(str)).replace('��', ' '))\n",
    "        except Exception as e:\n",
    "            print(f'{k}')  # Print key if there's an exception\n",
    "            print(e)\n"
   ]
  },
  {
   "cell_type": "code",
   "execution_count": null,
   "metadata": {},
   "outputs": [],
   "source": []
  }
 ],
 "metadata": {
  "kernelspec": {
   "display_name": "Python 3",
   "language": "python",
   "name": "python3"
  },
  "language_info": {
   "codemirror_mode": {
    "name": "ipython",
    "version": 3
   },
   "file_extension": ".py",
   "mimetype": "text/x-python",
   "name": "python",
   "nbconvert_exporter": "python",
   "pygments_lexer": "ipython3",
   "version": "3.12.2"
  }
 },
 "nbformat": 4,
 "nbformat_minor": 2
}
