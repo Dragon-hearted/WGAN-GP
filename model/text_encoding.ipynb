{
 "cells": [
  {
   "cell_type": "markdown",
   "metadata": {
    "heading_collapsed": true
   },
   "source": [
    "# Text Encoding Model"
   ]
  },
  {
   "cell_type": "code",
   "execution_count": 1,
   "metadata": {},
   "outputs": [
    {
     "name": "stdout",
     "output_type": "stream",
     "text": [
      "2.7.15\n"
     ]
    }
   ],
   "source": [
    "import fastai\n",
    "print(fastai.__version__) # version check"
   ]
  },
  {
   "cell_type": "code",
   "execution_count": 2,
   "metadata": {},
   "outputs": [],
   "source": [
    "from fastai.text.all import *"
   ]
  },
  {
   "cell_type": "code",
   "execution_count": 3,
   "metadata": {},
   "outputs": [],
   "source": [
    "# Load the data\n",
    "path = Path('data/txt/train')"
   ]
  },
  {
   "cell_type": "code",
   "execution_count": 4,
   "metadata": {},
   "outputs": [],
   "source": [
    "batch_size  = 64 # default value for fastai v2 "
   ]
  },
  {
   "cell_type": "code",
   "execution_count": 5,
   "metadata": {},
   "outputs": [],
   "source": [
    "# Create a DataBlock for language modeling\n",
    "dblock = DataBlock(\n",
    "    blocks=TextBlock.from_folder(path, is_lm=True), # Define the block as TextBlock for LM\n",
    "    get_items=get_text_files,                      # Get the text files\n",
    "    splitter=FuncSplitter(lambda x: False)         # Do not split the data into train/validation sets\n",
    ")\n",
    "\n",
    "# Create DataLoaders\n",
    "dls = dblock.dataloaders(path, bs=batch_size)\n"
   ]
  },
  {
   "cell_type": "code",
   "execution_count": 6,
   "metadata": {},
   "outputs": [
    {
     "data": {
      "text/html": [
       "<table border=\"1\" class=\"dataframe\">\n",
       "  <thead>\n",
       "    <tr style=\"text-align: right;\">\n",
       "      <th></th>\n",
       "      <th>text</th>\n",
       "      <th>text_</th>\n",
       "    </tr>\n",
       "  </thead>\n",
       "  <tbody>\n",
       "    <tr>\n",
       "      <th>0</th>\n",
       "      <td>xxbos a small bird with a yellow and black belly and a grey back and head . xxbos this bird is blue with red on it and has a long , pointy beak . xxbos large bird with a flat beak and mostly brown feathers . xxbos this bird has wings that are black and has an orange belly xxbos the bird is small with long black bill and white ring around</td>\n",
       "      <td>a small bird with a yellow and black belly and a grey back and head . xxbos this bird is blue with red on it and has a long , pointy beak . xxbos large bird with a flat beak and mostly brown feathers . xxbos this bird has wings that are black and has an orange belly xxbos the bird is small with long black bill and white ring around nape</td>\n",
       "    </tr>\n",
       "    <tr>\n",
       "      <th>1</th>\n",
       "      <td>wings , crown and tail with white stripe nape . xxbos this bird has a long , thick pink bill with a black tip and mostly white plumage with brown on the coverts , secondaries &amp; primaries . xxbos white bird with black topped wings and a yellow curved beak . xxbos this bird is mostly grey with a black crown , dark grey tailfeathers , and large black eyes . xxbos</td>\n",
       "      <td>, crown and tail with white stripe nape . xxbos this bird has a long , thick pink bill with a black tip and mostly white plumage with brown on the coverts , secondaries &amp; primaries . xxbos white bird with black topped wings and a yellow curved beak . xxbos this bird is mostly grey with a black crown , dark grey tailfeathers , and large black eyes . xxbos this</td>\n",
       "    </tr>\n",
       "    <tr>\n",
       "      <th>2</th>\n",
       "      <td>has a large crest with a big white spot in it . xxbos a yellow bird with a white patch on it 's wings . black tail feathers and a green beak xxbos this bird 's colors are a xxunk contrast of burnt orange and iridescent green . xxbos this is a bird with a white belly and grey wings . xxbos a brown bird with xxunk brown crown and a brown</td>\n",
       "      <td>a large crest with a big white spot in it . xxbos a yellow bird with a white patch on it 's wings . black tail feathers and a green beak xxbos this bird 's colors are a xxunk contrast of burnt orange and iridescent green . xxbos this is a bird with a white belly and grey wings . xxbos a brown bird with xxunk brown crown and a brown outer</td>\n",
       "    </tr>\n",
       "  </tbody>\n",
       "</table>"
      ],
      "text/plain": [
       "<IPython.core.display.HTML object>"
      ]
     },
     "metadata": {},
     "output_type": "display_data"
    }
   ],
   "source": [
    "# Check the DataLoader\n",
    "dls.show_batch(max_n=3)"
   ]
  },
  {
   "cell_type": "markdown",
   "metadata": {},
   "source": [
    "### What This Means:\n",
    "- `xxbos` at the start of each line indicates the beginning of a new sentence or data point.\n",
    "- `xxunk` replaces words that are not in the model's vocabulary, allowing the model to handle unseen words gracefully."
   ]
  },
  {
   "cell_type": "code",
   "execution_count": 10,
   "metadata": {},
   "outputs": [],
   "source": [
    "## debugging ssl certificate error \n",
    "import ssl\n",
    "import certifi\n",
    "\n",
    "ssl_context = ssl.create_default_context(cafile=certifi.where())"
   ]
  },
  {
   "cell_type": "code",
   "execution_count": 11,
   "metadata": {
    "hidden": true
   },
   "outputs": [],
   "source": [
    "# Create a learner for language modeling using AWD_LSTM architecture\n",
    "learn = language_model_learner(dls, AWD_LSTM, drop_mult=0.3)"
   ]
  },
  {
   "cell_type": "code",
   "execution_count": 9,
   "metadata": {
    "hidden": true
   },
   "outputs": [
    {
     "data": {
      "text/html": [
       "\n",
       "<style>\n",
       "    /* Turns off some styling */\n",
       "    progress {\n",
       "        /* gets rid of default border in Firefox and Opera. */\n",
       "        border: none;\n",
       "        /* Needs to be in here for Safari polyfill so background images work as expected. */\n",
       "        background-size: auto;\n",
       "    }\n",
       "    progress:not([value]), progress:not([value])::-webkit-progress-bar {\n",
       "        background: repeating-linear-gradient(45deg, #7e7e7e, #7e7e7e 10px, #5c5c5c 10px, #5c5c5c 20px);\n",
       "    }\n",
       "    .progress-bar-interrupted, .progress-bar-interrupted::-webkit-progress-bar {\n",
       "        background: #F44336;\n",
       "    }\n",
       "</style>\n"
      ],
      "text/plain": [
       "<IPython.core.display.HTML object>"
      ]
     },
     "metadata": {},
     "output_type": "display_data"
    },
    {
     "data": {
      "text/html": [],
      "text/plain": [
       "<IPython.core.display.HTML object>"
      ]
     },
     "metadata": {},
     "output_type": "display_data"
    },
    {
     "data": {
      "text/plain": [
       "'this bird has a relatively large body size and a body size of over 3 feet ( 3 & ) . It is also the head - body , body , and'"
      ]
     },
     "execution_count": 9,
     "metadata": {},
     "output_type": "execute_result"
    }
   ],
   "source": [
    "# checking\n",
    "learn.predict('this bird has', n_words=30, temperature=0.75)"
   ]
  },
  {
   "cell_type": "code",
   "execution_count": null,
   "metadata": {
    "hidden": true
   },
   "outputs": [],
   "source": [
    "encoder = learn.model[0]"
   ]
  },
  {
   "cell_type": "code",
   "execution_count": null,
   "metadata": {
    "hidden": true
   },
   "outputs": [],
   "source": [
    "encoder.eval()\n",
    "with torch.no_grad():\n",
    "    for xb,yb in progress_bar(learn.data.train_dl):\n",
    "        print(xb.shape)\n",
    "        print(encoder(xb)[0][-1].shape)\n",
    "        break"
   ]
  },
  {
   "cell_type": "code",
   "execution_count": null,
   "metadata": {
    "hidden": true
   },
   "outputs": [],
   "source": [
    "learn.save_encoder('enc')"
   ]
  }
 ],
 "metadata": {
  "kernelspec": {
   "display_name": "Python 3",
   "language": "python",
   "name": "python3"
  },
  "language_info": {
   "codemirror_mode": {
    "name": "ipython",
    "version": 3
   },
   "file_extension": ".py",
   "mimetype": "text/x-python",
   "name": "python",
   "nbconvert_exporter": "python",
   "pygments_lexer": "ipython3",
   "version": "3.12.2"
  }
 },
 "nbformat": 4,
 "nbformat_minor": 2
}
