{
 "cells": [
  {
   "cell_type": "markdown",
   "metadata": {},
   "source": [
    "# GAN"
   ]
  },
  {
   "cell_type": "code",
   "execution_count": 1,
   "metadata": {},
   "outputs": [],
   "source": [
    "%reload_ext autoreload\n",
    "%autoreload 2\n",
    "%matplotlib inline"
   ]
  },
  {
   "cell_type": "code",
   "execution_count": 5,
   "metadata": {},
   "outputs": [],
   "source": [
    "import fastai\n",
    "import torch\n",
    "from fastai.vision.all import *\n",
    "from fastai.vision.gan import *"
   ]
  },
  {
   "cell_type": "code",
   "execution_count": 3,
   "metadata": {},
   "outputs": [
    {
     "name": "stdout",
     "output_type": "stream",
     "text": [
      "2.7.15\n"
     ]
    }
   ],
   "source": [
    "print(fastai.__version__) # version check"
   ]
  },
  {
   "cell_type": "markdown",
   "metadata": {},
   "source": [
    "### Data"
   ]
  },
  {
   "cell_type": "code",
   "execution_count": 4,
   "metadata": {},
   "outputs": [],
   "source": [
    "embedding = torch.load('embedding.pkl')"
   ]
  },
  {
   "cell_type": "code",
   "execution_count": 7,
   "metadata": {},
   "outputs": [],
   "source": [
    "class Txt2ImgYTransform(Transform):\n",
    "    def __init__(self, embedding=embedding, **kwargs):\n",
    "        self.embedding = embedding\n",
    "    \n",
    "    def encodes(self, fn):\n",
    "        key = fn.stem + '.txt'\n",
    "        img = PILImage.create(fn)\n",
    "        return (TensorImage(self.embedding[key]).cuda(), img)\n",
    "    \n",
    "    def decodes(self, x):\n",
    "        return PILImage(x[1].float().clamp(min=0, max=1))\n",
    "        \n",
    "    def show(self, xs, ys=None, zs=None, imgsize=4, figsize=None, **kwargs):\n",
    "        raise NotImplementedError"
   ]
  },
  {
   "cell_type": "code",
   "execution_count": 8,
   "metadata": {},
   "outputs": [],
   "source": [
    "class Txt2ImgXTransform(Transform):\n",
    "    def __init__(self, embedding=embedding, **kwargs):\n",
    "        self.embedding = embedding\n",
    "    \n",
    "    def encodes(self, fn):\n",
    "        key = fn.stem + '.txt'\n",
    "        img = self.get_wrong_image(fn)\n",
    "        return (TensorImage(self.embedding[key]).cuda(), img)\n",
    "    \n",
    "    def get_wrong_image(self, fn):\n",
    "        cat = '_'.join(fn.name.split('_')[:-3])\n",
    "        items = fn.ls()  # List of all items in the directory\n",
    "        idx = np.random.randint(len(items))\n",
    "        \n",
    "        while items[idx].name.startswith(cat):\n",
    "            idx = np.random.randint(len(items))\n",
    "        \n",
    "        return PILImage.create(items[idx])\n",
    "\n",
    "    def decodes(self, x):\n",
    "        return PILImage(x[1].float().clamp(min=0, max=1))\n",
    "        \n",
    "    def show(self, xs, ys=None, zs=None, imgsize=4, figsize=None, **kwargs):\n",
    "        raise NotImplementedError"
   ]
  },
  {
   "cell_type": "code",
   "execution_count": null,
   "metadata": {},
   "outputs": [],
   "source": [
    "data = (Txt2ImgXItemList\n",
    "            .from_folder('data/images/')\n",
    "            .split_none()            \n",
    "            .label_from_func(noop)\n",
    "            .databunch(bs=128, num_workers=0)) # num_workers: for Windows\n",
    "            # TODO: normalize?"
   ]
  }
 ],
 "metadata": {
  "kernelspec": {
   "display_name": ".venv",
   "language": "python",
   "name": "python3"
  },
  "language_info": {
   "codemirror_mode": {
    "name": "ipython",
    "version": 3
   },
   "file_extension": ".py",
   "mimetype": "text/x-python",
   "name": "python",
   "nbconvert_exporter": "python",
   "pygments_lexer": "ipython3",
   "version": "3.12.2"
  }
 },
 "nbformat": 4,
 "nbformat_minor": 2
}
